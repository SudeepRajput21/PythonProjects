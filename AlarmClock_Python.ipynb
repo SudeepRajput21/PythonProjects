{
 "cells": [
  {
   "cell_type": "markdown",
   "id": "technological-conflict",
   "metadata": {},
   "source": [
    "### Importing Libraries"
   ]
  },
  {
   "cell_type": "code",
   "execution_count": 1,
   "id": "understood-insured",
   "metadata": {},
   "outputs": [],
   "source": [
    "from tkinter import *\n",
    "import datetime\n",
    "import time\n",
    "import soundfile as sf "
   ]
  },
  {
   "cell_type": "markdown",
   "id": "increasing-profession",
   "metadata": {},
   "source": [
    "- Tkinter module belongs to a standard library of GUI in Python. It helps us to create a dialog box with any information that we want to provide or get from the users.\n",
    "- Datetime and time modules in python help us to work with the dates and time of the current day when the user is operating python and to manipulate it too.\n",
    "- Soundfile module provides access to the basic sound playing machinery provided by Windows platforms. This is useful to generate the sound immediately when a function is called."
   ]
  },
  {
   "cell_type": "code",
   "execution_count": 2,
   "id": "better-triumph",
   "metadata": {},
   "outputs": [],
   "source": [
    "def alarm(set_alarm_timer):\n",
    "    \n",
    "    while True:\n",
    "        time.sleep(1)\n",
    "        current_time = datetime.datetime.now()\n",
    "        now = current_time.strftime('%H: %M: %S')\n",
    "        date = current_time.strftime('%d/ %m/ %y')\n",
    "        print('The Set Date is: ',date)\n",
    "        print(now)\n",
    "        \n",
    "        if now == set_alarm_timer:\n",
    "            print('Time to Wake up')\n",
    "            sf.read('sound.wav')\n",
    "            break\n",
    "            \n",
    "def actual_time():\n",
    "    set_alarm_timer = f'{hour.get()} : {min.get()} : {sec.get()}'\n",
    "    alarm(set_alarm_timer)\n",
    "        "
   ]
  },
  {
   "cell_type": "markdown",
   "id": "underlying-touch",
   "metadata": {},
   "source": [
    "- Define a function named as alarm() which takes the argument of (set_alarm_timer).It contains a while loop with a Boolean function True which makes the program automatic to work.\n",
    "- time.sleep(1) halts the execution of the further commands given until we get the time value from the user later in the code and returns the background thread of the clock time going on at a regular interval.\n",
    "- Get the current time using current_time which takes the argument of datetime.datetime.now().\n",
    "- now is used to print the time and date is used to print the current date by string conversion using strftime().\n",
    "- Define another function here named actual_time() which takes in the user value for setting the alarm in the string format. The same argument of (set_alarm_timer) as alarm before to execute the while loop which we further use while making GUI.\n",
    "- If loop suggests that if the user input time set_alarm_timer matches with the while loop ongoing time now, the message is printed as” Time to Wake up”."
   ]
  },
  {
   "cell_type": "markdown",
   "id": "applicable-grounds",
   "metadata": {},
   "source": [
    "### Creating a GUI using tkinter"
   ]
  },
  {
   "cell_type": "code",
   "execution_count": null,
   "id": "spanish-bicycle",
   "metadata": {},
   "outputs": [],
   "source": [
    "clock = Tk()\n",
    "\n",
    "clock.title = ('Alarm Clock')\n",
    "clock.geometry('400x200')\n",
    "\n",
    "time_format = Label(clock, text='Enter time in 24 hour format!', fg='red', bg='black', font='Arial').place(x=60, y=120)\n",
    "\n",
    "addTime = Label(clock, text='Hour  Min  Sec', font=60).place(x=110)\n",
    "\n",
    "setYourAlarm = Label(clock, text='When to Wake you up', fg='blue', relief='solid', font=('Helevetica',7,'bold')).place(x=0, y=29)\n",
    "\n",
    "# Variable we require to set the alarm(initialize)\n",
    "hour = StringVar()\n",
    "min = StringVar()\n",
    "sec = StringVar()\n",
    "\n",
    "# Time required to set the aram clock:\n",
    "\n",
    "hourTime = Entry(clock, textvariable=hour, bg='white', width=15).place(x=110, y=30)\n",
    "\n",
    "minTime = Entry(clock, textvariable=min, bg='white', width=15).place(x=150, y=30)\n",
    "\n",
    "secTime = Entry(clock, textvariable=sec, bg='white', width=15).place(x=200, y=30)\n",
    "\n",
    "# To take the time input by user\n",
    "\n",
    "submit = Button(clock, text='Set Alarm', fg='red', width=10, command=actual_time).place(x=110, y=70)\n",
    "\n",
    "clock.mainloop()\n",
    "\n",
    "\n"
   ]
  },
  {
   "cell_type": "markdown",
   "id": "attempted-footage",
   "metadata": {},
   "source": [
    "- To Initialize tkinter, we pass a command under the name clock as Tk().\n",
    "- The dialog box has the title as Alarm Clock with a geometry of (400*200). \n",
    "- The second heading is given above the user input boxes for the labeling to be “Hour Min Sec” using addTime.\n",
    "- Just to make the dialog box look funkier, adding another label as “when to wake you up” using setYourAlarm.\n",
    "- As we have already converted the current time in the string before (actual time), the variables we initialize for the user input dialog boxes are in StringVar().\n",
    "- Finally make the input boxes such as hourTime, minTime, and secTime which takes the entry of the time the user wants to set the alarm on in 24-hour format.\n",
    "- Submit takes the command of the defined function actual_time and executes the clock as it acts as a set button to start the program.\n",
    "- Clock.mainloop() is the basic and the last command was given to compile all the previous commands with their basic settings of color, font, width, axis, etc. and displays the window as soon as the program is run."
   ]
  }
 ],
 "metadata": {
  "kernelspec": {
   "display_name": "Python 3",
   "language": "python",
   "name": "python3"
  },
  "language_info": {
   "codemirror_mode": {
    "name": "ipython",
    "version": 3
   },
   "file_extension": ".py",
   "mimetype": "text/x-python",
   "name": "python",
   "nbconvert_exporter": "python",
   "pygments_lexer": "ipython3",
   "version": "3.8.5"
  }
 },
 "nbformat": 4,
 "nbformat_minor": 5
}
