{
 "cells": [
  {
   "cell_type": "markdown",
   "id": "brutal-kentucky",
   "metadata": {},
   "source": [
    "- The formula is BMI = kg/m2 where kg is a person’s weight in kilograms and m2 is their height in meters squared.\n",
    "\n",
    "- BMI Categories:\n",
    "    - Underweight = <18.5\n",
    "    - Normal weight = 18.5–24.9\n",
    "    - Overweight = 25–29.9\n",
    "    - Obesity = BMI of 30 or greater"
   ]
  },
  {
   "cell_type": "code",
   "execution_count": 50,
   "id": "conditional-giving",
   "metadata": {},
   "outputs": [],
   "source": [
    "from tkinter import *\n",
    "from tkinter import messagebox"
   ]
  },
  {
   "cell_type": "code",
   "execution_count": 51,
   "id": "severe-valve",
   "metadata": {},
   "outputs": [],
   "source": [
    "def reset_entry():\n",
    "    age_tf.delete(0,'end')\n",
    "    height_tf.delete(0,'end')\n",
    "    weight_tf.delete(0,'end')"
   ]
  },
  {
   "cell_type": "code",
   "execution_count": 52,
   "id": "copyrighted-christmas",
   "metadata": {},
   "outputs": [],
   "source": [
    "def calculate_bmi():\n",
    "    kg = int(weight_tf.get())\n",
    "    m = int(height_tf.get())/100\n",
    "    bmi = kg/(m*m)\n",
    "    bmi = round(bmi,1)\n",
    "    bmi_index(bmi)"
   ]
  },
  {
   "cell_type": "markdown",
   "id": "periodic-skirt",
   "metadata": {},
   "source": [
    "- kg = int(weight_tf.get()) -> this line of code gets the user weight, convert it to integers, and then stores the value in the variable kg\n",
    "- m = int(height_tf.get())/100 -> this line of code gets the user height, converts it into integers, divides the result with 100 so that centimeters become meters, and then stores it in a variable m.\n",
    "- bmi = kg/(m*m) -> this is the formula for finding BMI. We have stored the formula in a variable BMI.\n",
    "- bmi = round(bmi, 1) -> before round off the result was appearing in multiple decimal values. But after using the round function it looks simplified & easy to read.\n",
    "- bmi_index(bmi) -> We have called the bmi_index() function to compare the BMI value with the BMI categories."
   ]
  },
  {
   "cell_type": "code",
   "execution_count": 53,
   "id": "beginning-october",
   "metadata": {},
   "outputs": [],
   "source": [
    "def bmi_index(bmi):\n",
    "    \n",
    "    if bmi < 18.5:\n",
    "        messagebox.showinfo('BMI Calculator', f'BMI = {bmi} is Underweight')\n",
    "        \n",
    "    elif (bmi > 18.5) and (bmi < 24.9):\n",
    "        messagebox.showinfo('BMI Calculator', f'BMI = {bmi} is Normal')\n",
    "        \n",
    "    elif (bmi > 24.9) and (bmi < 29.9):\n",
    "        messagebox.showinfo('BMI Calculator', f'BMI = {bmi} is Overweight')\n",
    "        \n",
    "    elif bmi > 29.9:\n",
    "        messagebox.showinfo('BMI Calculator', f'BMI = {bmi} is Obesity')\n",
    "        \n",
    "    else:\n",
    "        messagebox.showinfo('BMI Calculator','Something went wrong')"
   ]
  },
  {
   "cell_type": "code",
   "execution_count": 54,
   "id": "alive-cowboy",
   "metadata": {},
   "outputs": [],
   "source": [
    "ws = Tk()\n",
    "ws.title('BMI CALCULATOR')\n",
    "ws.geometry('400x300')\n",
    "ws.config(bg='#686e70')\n",
    "\n",
    "var=IntVar()\n",
    "\n",
    "frame = Frame(ws, padx=10, pady=10)\n",
    "frame.pack(expand=True)\n",
    "\n",
    "age_lb = Label(frame, text='Enter age(2-120)')\n",
    "age_lb.grid(row=1, column=1)\n",
    "\n",
    "age_tf = Entry(frame)\n",
    "age_tf.grid(row=1, column=2)\n",
    "\n",
    "gen_lb = Label(frame, text='Select Gender')\n",
    "gen_lb.grid(row=2, column=1)\n",
    "\n",
    "frame2 = Frame(frame)\n",
    "frame2.grid(row=2, column=2, pady=5)\n",
    "\n",
    "male_rb = Radiobutton(frame2, text='Male', variable=var, value=1)\n",
    "male_rb.pack(side=LEFT)\n",
    "\n",
    "female_rb = Radiobutton(frame2, text='Female', variable=var, value=2)\n",
    "female_rb.pack(side=RIGHT)\n",
    "\n",
    "height_lb = Label(frame, text='Enter Height(cm)')\n",
    "height_lb.grid(row=3, column=1)\n",
    "\n",
    "height_tf = Entry(frame)\n",
    "height_tf.grid(row=3, column=2, pady=5)\n",
    "\n",
    "weight_lb = Label(frame, text='Enter Weight(kg)')\n",
    "weight_lb.grid(row=4, column=1)\n",
    "\n",
    "weight_tf = Entry(frame)\n",
    "weight_tf.grid(row=4, column=2, pady=5)\n",
    "\n",
    "frame3 = Frame(frame)\n",
    "frame3.grid(row=5, columnspan=3, pady=10)\n",
    "\n",
    "cal_btn = Button(frame3, text='Calculate', command=calculate_bmi)\n",
    "cal_btn.pack(side=LEFT)\n",
    "\n",
    "reset_btn = Button(frame3, text='Reset', command=reset_entry)\n",
    "reset_btn.pack(side=LEFT)\n",
    "\n",
    "exit_btn = Button(frame3, text='Exit', command=lambda:ws.destroy())\n",
    "exit_btn.pack(side=RIGHT)\n",
    "\n",
    "ws.mainloop()"
   ]
  }
 ],
 "metadata": {
  "kernelspec": {
   "display_name": "Python 3",
   "language": "python",
   "name": "python3"
  },
  "language_info": {
   "codemirror_mode": {
    "name": "ipython",
    "version": 3
   },
   "file_extension": ".py",
   "mimetype": "text/x-python",
   "name": "python",
   "nbconvert_exporter": "python",
   "pygments_lexer": "ipython3",
   "version": "3.8.5"
  }
 },
 "nbformat": 4,
 "nbformat_minor": 5
}
