{
 "cells": [
  {
   "cell_type": "markdown",
   "id": "palestinian-gates",
   "metadata": {},
   "source": [
    "### Importing Libraries"
   ]
  },
  {
   "cell_type": "code",
   "execution_count": 31,
   "id": "assigned-undergraduate",
   "metadata": {},
   "outputs": [],
   "source": [
    "from tkinter import *\n",
    "import random"
   ]
  },
  {
   "cell_type": "markdown",
   "id": "bizarre-boxing",
   "metadata": {},
   "source": [
    "- Tkinter is a standard GUI library which is one of the easiest ways to build a GUI application.\n",
    "- Random module is used to generate random numbers."
   ]
  },
  {
   "cell_type": "markdown",
   "id": "pressed-behavior",
   "metadata": {},
   "source": [
    "### Initialize Window"
   ]
  },
  {
   "cell_type": "code",
   "execution_count": 32,
   "id": "comic-italy",
   "metadata": {},
   "outputs": [],
   "source": [
    "root = Tk()\n",
    "root.geometry('400x400')\n",
    "root.resizable(0,0)\n",
    "root.title('Rock, Paper, Scissors')\n",
    "root.config(bg='seashell3')\n",
    "\n",
    "Label(root, text='Rock, Paper, Scissors', font='arial 20 bold', bg='seashell2').pack()"
   ]
  },
  {
   "cell_type": "markdown",
   "id": "portable-posting",
   "metadata": {},
   "source": [
    "- Tk() use to initialized Tkinter to create window.\n",
    "- geometry() sets the window width and height.\n",
    "- resizable(0,0) by this command we can fix the size of the window.\n",
    "- title() used to set the title of the window.\n",
    "- bg is used to set the color of the background.\n",
    "\n",
    "- Label() widget used when we want to display text that users can’t modify, root is the name of our window, text which displays on the label as the title of that label, font in which form the text is written, pack used to the organized widget in form of block."
   ]
  },
  {
   "cell_type": "markdown",
   "id": "applicable-animation",
   "metadata": {},
   "source": [
    "### For User Choice"
   ]
  },
  {
   "cell_type": "code",
   "execution_count": 33,
   "id": "empirical-therapist",
   "metadata": {},
   "outputs": [],
   "source": [
    "user_take = StringVar()\n",
    "\n",
    "Label(root, text='Choose any one : rock, paper, scissors', font='arial 15 bold', bg='seashell2').place(x=20, y=70)\n",
    "\n",
    "Entry(root, text='arial 15', textvariable=user_take, bg='antiquewhite2').place(x=90, y=130)"
   ]
  },
  {
   "cell_type": "markdown",
   "id": "preliminary-windows",
   "metadata": {},
   "source": [
    "- user_take is a string type variable that stores the choice that the user enters.\n",
    "- Entry() widget used when we want to create an input text field.\n",
    "\n",
    "- textvariable is used to retrieve the text to entry widget and place() places widgets at specific position."
   ]
  },
  {
   "cell_type": "markdown",
   "id": "powered-journalism",
   "metadata": {},
   "source": [
    "### For Computer Choice\n",
    "- random.randint() function will randomly take any number from the given number."
   ]
  },
  {
   "cell_type": "code",
   "execution_count": 34,
   "id": "reflected-alcohol",
   "metadata": {},
   "outputs": [],
   "source": [
    "comp_pick = random.randint(1,3)\n",
    "if comp_pick == 1:\n",
    "    comp_pick = 'rock'\n",
    "    \n",
    "elif comp_pick == 2:\n",
    "    comp_pick = 'paper'\n",
    "        \n",
    "else:\n",
    "    comp_pick = 'scissors'"
   ]
  },
  {
   "cell_type": "markdown",
   "id": "quantitative-subcommittee",
   "metadata": {},
   "source": [
    "### Function to start the game"
   ]
  },
  {
   "cell_type": "code",
   "execution_count": 35,
   "id": "after-soviet",
   "metadata": {},
   "outputs": [],
   "source": [
    "Result = StringVar()\n",
    "\n",
    "def play():\n",
    "    user_pick = user_take.get()\n",
    "    \n",
    "    if user_pick == comp_pick:\n",
    "        Result.set('Tie, you both selected the same')\n",
    "        \n",
    "    elif user_pick == 'rock' and comp_pick == 'paper':\n",
    "        Result.set('You Loose, computer selected paper')\n",
    "        \n",
    "    elif user_pick == 'rock' and comp_pick == 'scissors':\n",
    "        Result.set('You Win, computer selected scissors')\n",
    "        \n",
    "    elif user_pick == 'paper' and comp_pick == 'scissors':\n",
    "        Result.set('You Loose, computer selected scissors')\n",
    "        \n",
    "    elif user_pick == 'paper' and comp_pick == 'rock':\n",
    "        Result.set('You Win, computer selected rock')\n",
    "        \n",
    "    elif user_pick == 'scissors' and comp_pick == 'rock':\n",
    "        Result.set('You Loose, computer selected rock')\n",
    "        \n",
    "    elif user_pick == 'scissors' and comp_pick == 'paper':\n",
    "        Result.set('You Win, computer selected paper')\n",
    "        \n",
    "    else:\n",
    "        Result.set('Invalid: choose any one -- rock, paper, scissors')\n",
    "    "
   ]
  },
  {
   "cell_type": "markdown",
   "id": "wrapped-carter",
   "metadata": {},
   "source": [
    "- user_take is a string type variable that stores the choice that the user enters.\n",
    "- We give if-else() condition to check who wins between user choice and computer choice."
   ]
  },
  {
   "cell_type": "markdown",
   "id": "hybrid-washer",
   "metadata": {},
   "source": [
    "### Function to Reset"
   ]
  },
  {
   "cell_type": "code",
   "execution_count": 36,
   "id": "better-cisco",
   "metadata": {},
   "outputs": [],
   "source": [
    "def Reset():\n",
    "    result.set(' ')\n",
    "    user_take.set(' ')"
   ]
  },
  {
   "cell_type": "markdown",
   "id": "lyric-wedding",
   "metadata": {},
   "source": [
    "### Function to Exit\n",
    "- root.destroy() will quit the rock paper scissors program by stopping the mainloop()."
   ]
  },
  {
   "cell_type": "code",
   "execution_count": 37,
   "id": "soviet-british",
   "metadata": {},
   "outputs": [],
   "source": [
    "def Exit():\n",
    "    root.destroy()"
   ]
  },
  {
   "cell_type": "markdown",
   "id": "ignored-brush",
   "metadata": {},
   "source": [
    "### Define Buttons"
   ]
  },
  {
   "cell_type": "code",
   "execution_count": 38,
   "id": "elect-kingdom",
   "metadata": {},
   "outputs": [],
   "source": [
    "Entry(root, font='arial 10 bold', textvariable= Result, bg='antiquewhite2', width=50).place(x=25, y=250)\n",
    "\n",
    "Button(root, font='arial 13 bold', text='PLAY', padx=5, bg='seashell4', command=play).place(x=150, y=190)\n",
    "\n",
    "Button(root, font='arial 13 bold', text='RESET', padx=5, bg='seashell4', command=Reset).place(x=70, y=310)\n",
    "\n",
    "Button(root, font='arial 13 bold', text='EXIT', padx=5, bg='seashell4', command=Exit).place(x=230, y=310)\n",
    "\n",
    "root.mainloop()"
   ]
  },
  {
   "cell_type": "markdown",
   "id": "disabled-ultimate",
   "metadata": {},
   "source": [
    "- Button() widget used when we want to display a button.\n",
    "- command called the specific function when the button will be clicked.\n",
    "- root.mainloop() method executes when we run our program."
   ]
  }
 ],
 "metadata": {
  "kernelspec": {
   "display_name": "Python 3",
   "language": "python",
   "name": "python3"
  },
  "language_info": {
   "codemirror_mode": {
    "name": "ipython",
    "version": 3
   },
   "file_extension": ".py",
   "mimetype": "text/x-python",
   "name": "python",
   "nbconvert_exporter": "python",
   "pygments_lexer": "ipython3",
   "version": "3.8.5"
  }
 },
 "nbformat": 4,
 "nbformat_minor": 5
}
