{
 "cells": [
  {
   "cell_type": "markdown",
   "id": "demographic-affair",
   "metadata": {},
   "source": [
    "### Importing modules"
   ]
  },
  {
   "cell_type": "code",
   "execution_count": 1,
   "id": "comic-variety",
   "metadata": {},
   "outputs": [],
   "source": [
    "import turtle\n",
    "import random\n",
    "import time"
   ]
  },
  {
   "cell_type": "markdown",
   "id": "solid-essex",
   "metadata": {},
   "source": [
    "- Turtle module gives us a feature to draw on a drawing board.\n",
    "- Random module will be used to generate random numbers.\n",
    "- Time module is an inbuilt module in python. It provides the functionality of time."
   ]
  },
  {
   "cell_type": "markdown",
   "id": "olive-bearing",
   "metadata": {},
   "source": [
    "### Creating game screen"
   ]
  },
  {
   "cell_type": "code",
   "execution_count": 2,
   "id": "atlantic-bouquet",
   "metadata": {},
   "outputs": [],
   "source": [
    "screen = turtle.Screen()\n",
    "screen.title('SNAKE GAME')\n",
    "screen.setup(width=700, height=700)\n",
    "screen.tracer(0)\n",
    "turtle.bgcolor('black')\n",
    "\n",
    "turtle.speed(5)\n",
    "turtle.pensize(4)\n",
    "turtle.penup()\n",
    "turtle.goto(-310,250)\n",
    "turtle.pendown()\n",
    "turtle.color('white')\n",
    "turtle.forward(600)\n",
    "turtle.right(90)\n",
    "turtle.forward(500)\n",
    "turtle.right(90)\n",
    "turtle.forward(600)\n",
    "turtle.right(90)\n",
    "turtle.forward(500)\n",
    "turtle.penup()"
   ]
  },
  {
   "cell_type": "markdown",
   "id": "final-paint",
   "metadata": {},
   "source": [
    "- title() will set the desired title of the screen.\n",
    "- setup() used to set the height and width of the screen.\n",
    "- tracer(0) will turn off the screen update.\n",
    "- bgcolor() will set the background color.\n",
    "- forward() will use to move the turtle in a forwarding direction for a specified amount.\n",
    "- right() used to turn the turtle clockwise and left() used to turn the turtle anticlockwise.\n",
    "- penup() will not draw while its move."
   ]
  },
  {
   "cell_type": "markdown",
   "id": "appropriate-polyester",
   "metadata": {},
   "source": [
    "### Creating snake and food"
   ]
  },
  {
   "cell_type": "code",
   "execution_count": 3,
   "id": "ongoing-anderson",
   "metadata": {},
   "outputs": [],
   "source": [
    "snake = turtle.Turtle()\n",
    "snake.speed(0)\n",
    "snake.shape('square')\n",
    "snake.color('red')\n",
    "snake.penup()\n",
    "snake.goto(0,0)\n",
    "snake.direction='stop'\n",
    "\n",
    "fruit = turtle.Turtle()\n",
    "fruit.speed(0)\n",
    "fruit.shape('circle')\n",
    "fruit.color('green')\n",
    "fruit.penup()\n",
    "fruit.goto(30,30)\n",
    "\n",
    "old_fruit=[]\n",
    "\n",
    "scoring = turtle.Turtle()\n",
    "scoring.speed(0)\n",
    "scoring.color('white')\n",
    "scoring.penup()\n",
    "scoring.hideturtle()\n",
    "scoring.goto(0,300)\n",
    "scoring.write('Score:' , align='center', font=('Courier',24,'bold'))"
   ]
  },
  {
   "cell_type": "markdown",
   "id": "explicit-store",
   "metadata": {},
   "source": [
    "- Turtle() will be used to create a new turtle object.\n",
    "- hideturtle() will use to hide the turtle.\n",
    "- goto() used to move the turtle at x and y coordinates."
   ]
  },
  {
   "cell_type": "markdown",
   "id": "accompanied-brown",
   "metadata": {},
   "source": [
    "### Keyboard binding"
   ]
  },
  {
   "cell_type": "code",
   "execution_count": 4,
   "id": "wooden-youth",
   "metadata": {},
   "outputs": [],
   "source": [
    "def snake_go_up():\n",
    "    if snake.direction != 'down':\n",
    "        snake.direction='up'\n",
    "        \n",
    "def snake_go_down():\n",
    "    if snake.direction != 'up':\n",
    "        snake.direction='down'\n",
    "        \n",
    "def snake_go_left():\n",
    "    if snake.direction != 'right':\n",
    "        snake.direction='left'\n",
    "\n",
    "def snake_go_right():\n",
    "    if snake.direction != 'left':\n",
    "        snake.direction='right'\n",
    "        \n",
    "def snake_move():\n",
    "    if snake.direction =='up':\n",
    "        y = snake.ycor()\n",
    "        snake.sety(y+20)\n",
    "        \n",
    "    if snake.direction =='down':\n",
    "        y = snake.ycor()\n",
    "        snake.sety(y-20)\n",
    "    \n",
    "    if snake.direction =='left':\n",
    "        x= snake.xcor()\n",
    "        snake.setx(x-20)\n",
    "    \n",
    "    if snake.direction =='right':\n",
    "        x= snake.xcor()\n",
    "        snake.setx(x+20)\n",
    "        \n",
    "screen.listen()\n",
    "screen.onkeypress(snake_go_up,'Up')\n",
    "screen.onkeypress(snake_go_down, 'Down')\n",
    "screen.onkeypress(snake_go_left, 'Left')\n",
    "screen.onkeypress(snake_go_right, 'Right')\n",
    "    \n",
    "        "
   ]
  },
  {
   "cell_type": "markdown",
   "id": "deluxe-comment",
   "metadata": {},
   "source": [
    "- screen.listen() function listen when key will press.\n",
    "- If the Up key will press then the snake will move in up direction.\n",
    "- If the Down key is pressed then the snake will move in the down direction.\n",
    "- If Left key will press then the snake will move in left direction.\n",
    "- If the Right key will press then the snake will move in the right direction."
   ]
  },
  {
   "cell_type": "markdown",
   "id": "excess-radar",
   "metadata": {},
   "source": [
    "### Snake and food collision"
   ]
  },
  {
   "cell_type": "code",
   "execution_count": 5,
   "id": "regional-technical",
   "metadata": {},
   "outputs": [],
   "source": [
    "if snake.distance(fruit)<20:\n",
    "    x = random.randint(-290,270)\n",
    "    y = random.randint(-240,240)\n",
    "    fruit.goto(x,y)\n",
    "    scoring.clear()\n",
    "    score += 1\n",
    "    scoring.write('Score:{}'.format(score), align='center', font=('Courier',24,'bold'))\n",
    "    delay=0.001\n",
    "    \n",
    "    new_fruit = turtle.Turtle()\n",
    "    new_fruit.speed(0)\n",
    "    new_fruit.shape('square')\n",
    "    new_fruit.color('white')\n",
    "    new_fruit.penup()\n",
    "    old_fruit.append(new_fruit)\n",
    "    \n",
    "for index in range(len(old_fruit)-1, 0, -1):\n",
    "    a = old_fruit[index-1].xcor()\n",
    "    b = old_fruit[index-1].ycor()\n",
    "    \n",
    "    old_fruit[index].goto(a,b)\n",
    "    \n",
    "    if len(old_fruit)>0:\n",
    "        a = snake.xcor()\n",
    "        b = snake.ycor()\n",
    "        old_fruit[0].goto(a,b)\n",
    "    snake_move()"
   ]
  },
  {
   "cell_type": "markdown",
   "id": "proper-parliament",
   "metadata": {},
   "source": [
    "- If the snake touches the fruit then the fruit will go at any random position and score will increase and the size of the snake will also increase."
   ]
  },
  {
   "cell_type": "markdown",
   "id": "convinced-exchange",
   "metadata": {},
   "source": [
    "### Snake and border collision"
   ]
  },
  {
   "cell_type": "code",
   "execution_count": 6,
   "id": "progressive-mercy",
   "metadata": {},
   "outputs": [],
   "source": [
    "if snake.xcor()>280 or snake.xcor()<-300 or snake.ycor()>240 or snake.ycor()<-240:\n",
    "    \n",
    "    time.sleep(1)\n",
    "    screen.clear()\n",
    "    screen.bgcolor('black')\n",
    "    scoring.goto(0,0)\n",
    "    scoring.write('GAME OVER \\n Your Score is:{}'.format(score), align='center', font=('Courier',30,'bold'))"
   ]
  },
  {
   "cell_type": "markdown",
   "id": "little-phenomenon",
   "metadata": {},
   "source": [
    "- If the snake touches the border of the game then the game will over.\n",
    "- screen.clear() will delete all the drawing of the turtle on the screen."
   ]
  },
  {
   "cell_type": "markdown",
   "id": "finite-holmes",
   "metadata": {},
   "source": [
    "### When snake touch itself"
   ]
  },
  {
   "cell_type": "code",
   "execution_count": 7,
   "id": "voluntary-mobile",
   "metadata": {},
   "outputs": [],
   "source": [
    "for food in old_fruit:\n",
    "    if food.distance(snake)<20:\n",
    "        time.sleep(1)\n",
    "        screen.clear()\n",
    "        screen.bgcolor('black')\n",
    "        scoring.goto(0,0)\n",
    "        scoring.write('GAME OVER \\n Your Score is:{}'.format(score), align='center', font=('Courier',30,'bold'))"
   ]
  }
 ],
 "metadata": {
  "kernelspec": {
   "display_name": "Python 3",
   "language": "python",
   "name": "python3"
  },
  "language_info": {
   "codemirror_mode": {
    "name": "ipython",
    "version": 3
   },
   "file_extension": ".py",
   "mimetype": "text/x-python",
   "name": "python",
   "nbconvert_exporter": "python",
   "pygments_lexer": "ipython3",
   "version": "3.8.5"
  }
 },
 "nbformat": 4,
 "nbformat_minor": 5
}
